{
 "cells": [
  {
   "cell_type": "markdown",
   "id": "fc4f9342",
   "metadata": {},
   "source": [
    "# 단순연결 리스트"
   ]
  },
  {
   "cell_type": "code",
   "execution_count": 1,
   "id": "93a4091f",
   "metadata": {
    "ExecuteTime": {
     "end_time": "2023-10-24T05:43:32.725398Z",
     "start_time": "2023-10-24T05:43:32.682142Z"
    }
   },
   "outputs": [],
   "source": [
    "# 프로그램 2-1 slist.py\n",
    "\n",
    "class SList:\n",
    "    class Node:\n",
    "        def __init__(self,item, link): # 노드 생성자\n",
    "            self.item = item           # 항목과 다음 노드 레퍼런스 \n",
    "            self.next = link\n",
    "                \n",
    "    def __init__(self):                # 단순연결리스트 생성자 \n",
    "        self.head = None               # head와 항목 수(size)로 구성 \n",
    "        self.size = 0\n",
    "        \n",
    "    def size(self):\n",
    "        return self.size\n",
    "    \n",
    "    def is_empty(self):\n",
    "        return self.size == 0\n",
    "        \n",
    "    def insert_front(self,item):\n",
    "        if self.is_empty():\n",
    "            self.head = self.Node(item,None) #head가 새 노드 참조 \n",
    "        \n",
    "        else:\n",
    "            self.head = self.Node(item,self.head)  #head가 새 노드 참조 \n",
    "        self.size += 1\n",
    "        # 여기서 원래 head뒤로는 똑같아서 변경안해줘도 된다. \n",
    "    \n",
    "    def insert_after(self,item,p):\n",
    "        p.next = self.Node(item,p.next)  ######? Slit.Node? \n",
    "        self.size += 1\n",
    "            \n",
    "    def delete_front(self):\n",
    "        if self.is_empty():                     # empty인 경우 에러 처리 \n",
    "            raise EmptyError('Underflow')\n",
    "        else:  \n",
    "            self.head = self.head.next   # head가 둘째 노드를 참조 \n",
    "            self.size -=1\n",
    "            \n",
    "    def delete_after(self,p):\n",
    "        if self.is_empty():\n",
    "            raise EmptyError('Underflow')\n",
    "        t = p.next\n",
    "        p.next = t.next                  # p 다음 노드를 건너뛰어 연결 \n",
    "        self.size -= 1 # 만약 p가 None이면 next도 None되는게 맞나 ? \n",
    "    \n",
    "    def search(self,target):\n",
    "        p = self.head                    # head로 부터 순차 탐색 \n",
    "        \n",
    "        for k in range(self.size):\n",
    "            if target == p.item:\n",
    "                return k                 # 탐색 성공시\n",
    "            p = p.next\n",
    "        return None                      # 탐색 실패시 \n",
    "        \n",
    "        \n",
    "    def print_list(self):\n",
    "        p = self.head\n",
    "        \n",
    "        while p:                         #리스트 맨 끝에선 None값이라 루프탈출 \n",
    "            if p.next!=None:\n",
    "                print(p.item, \"->\",end=\"\")\n",
    "            else:\n",
    "                print(p.item)\n",
    "            p = p.next                  # 노드들을 순차탐색.\n",
    "        \n",
    "class EmptyError(Exception):            # underflow시 에러 처리 \n",
    "    pass"
   ]
  },
  {
   "cell_type": "code",
   "execution_count": 2,
   "id": "a5aa2c1f",
   "metadata": {
    "ExecuteTime": {
     "end_time": "2023-10-24T05:43:33.864360Z",
     "start_time": "2023-10-24T05:43:33.835281Z"
    }
   },
   "outputs": [
    {
     "name": "stdout",
     "output_type": "stream",
     "text": [
      "pear ->apple ->orange ->cherry\n",
      "cherry는 3번째\n",
      "kiwi는 None\n",
      "배 다음 노드 삭제 후:\t\tpear ->orange ->cherry\n",
      "첫 노드 삭제 후 :\t\torange ->cherry\n",
      "첫 노드로 망고, 딸기 삽입 후 :\tstrawberry ->mango ->orange ->cherry\n",
      "오랜지 다음 노드 삭제 후 :\tstrawberry ->mango ->orange\n"
     ]
    }
   ],
   "source": [
    "# 프로그램 2-2 main.py\n",
    "# from slit import Sist\n",
    "\n",
    "# if __name__ == '__main__':\n",
    "s = SList()\n",
    "s.insert_front('orange')\n",
    "s.insert_front('apple')\n",
    "s.insert_after('cherry',s.head.next)\n",
    "s.insert_front('pear')\n",
    "s.print_list()\n",
    "print('cherry는 %d번째' % s.search('cherry'))\n",
    "print('kiwi는',s.search('kiwi'))\n",
    "print('배 다음 노드 삭제 후:\\t\\t',end=\"\")\n",
    "s.delete_after(s.head)\n",
    "s.print_list()\n",
    "print('첫 노드 삭제 후 :\\t\\t',end=\"\")\n",
    "s.delete_front()\n",
    "s.print_list()\n",
    "print('첫 노드로 망고, 딸기 삽입 후 :\\t', end=\"\")\n",
    "s.insert_front('mango')\n",
    "s.insert_front('strawberry')\n",
    "s.print_list()\n",
    "s.delete_after(s.head.next.next)\n",
    "print('오랜지 다음 노드 삭제 후 :\\t',end = \"\")\n",
    "s.print_list()"
   ]
  },
  {
   "cell_type": "markdown",
   "id": "9ed7debd",
   "metadata": {},
   "source": [
    "# 이중연결 리스트"
   ]
  },
  {
   "cell_type": "code",
   "execution_count": 3,
   "id": "a7efdd79",
   "metadata": {
    "ExecuteTime": {
     "end_time": "2023-10-24T05:44:55.601745Z",
     "start_time": "2023-10-24T05:44:55.576846Z"
    }
   },
   "outputs": [],
   "source": [
    "# 프로그램 2-3 dlist.py\n",
    "class DList:\n",
    "    class Node:\n",
    "        def __init__(self, item, prev, link):\n",
    "            self.item = item\n",
    "            self.prev = prev\n",
    "            self.next = link\n",
    "        \n",
    "    def __init__(self):\n",
    "        self.head = self.Node(None,None,None)\n",
    "        self.tail = self.Node(None, self.head,None)\n",
    "        self.head.next = self.tail\n",
    "        self.size = 0\n",
    "        \n",
    "    def size(self): \n",
    "        return self.size\n",
    "    \n",
    "    def is_empty(self):\n",
    "        return self.size ==0\n",
    "    \n",
    "    def insert_before(self, p, item):\n",
    "        t = p.prev\n",
    "        n = self.Node(item, t, p)\n",
    "        p.prev = n \n",
    "        t.next = n\n",
    "        self.size +=1\n",
    "    \n",
    "    def insert_after(self,p,item):\n",
    "        t = p.next\n",
    "        n = self.Node(item,p,t)\n",
    "        t.prev = n\n",
    "        p.next = n\n",
    "        self.size += 1\n",
    "    \n",
    "    def delete(self,x):\n",
    "        f = x.prev\n",
    "        r = x.next\n",
    "        f.next = r\n",
    "        r.prev = f\n",
    "        self.size -= 1\n",
    "        return x.item\n",
    "    \n",
    "    def print_list(self):\n",
    "        if self.is_empty():\n",
    "            print('리스트 비어있음')\n",
    "        else:\n",
    "            p = self.head.next\n",
    "            while p != self.tail:\n",
    "                if p.next != self.tail:\n",
    "                    print(p.item, '<=>', end=\"\")\n",
    "                else:\n",
    "                    print(p.item)\n",
    "                p = p.next\n",
    "        \n",
    "\n",
    "class EmptyError(Exception):\n",
    "    pass"
   ]
  },
  {
   "cell_type": "code",
   "execution_count": 4,
   "id": "85e8f961",
   "metadata": {
    "ExecuteTime": {
     "end_time": "2023-10-24T05:45:01.693838Z",
     "start_time": "2023-10-24T05:45:01.666438Z"
    }
   },
   "outputs": [
    {
     "name": "stdout",
     "output_type": "stream",
     "text": [
      "apple <=>pear <=>orange <=>cherry\n",
      "마지막 노드 삭제 후:\tapple <=>pear <=>orange\n",
      "맨  끝에 포도 삽입 후:\tapple <=>pear <=>orange <=>grape\n",
      "첫 노드 삭제 후 :\tpear <=>orange <=>grape\n",
      "첫 노드 삭제 후 :\torange <=>grape\n",
      "첫 노드 삭제 후 :\tgrape\n",
      "첫 노드 삭제 후 :\t리스트 비어있음\n"
     ]
    }
   ],
   "source": [
    "# 프로그램 2-4 main.py\n",
    "#from dlist import DList\n",
    "if __name__ == \"__main__\":\n",
    "    s = DList()\n",
    "    s.insert_after(s.head, 'apple')\n",
    "    s.insert_before(s.tail, 'orange')\n",
    "    s.insert_before(s.tail, 'cherry')\n",
    "    s.insert_after(s.head.next, 'pear')\n",
    "    s.print_list()\n",
    "    print('마지막 노드 삭제 후:\\t', end=\"\")\n",
    "    s.delete(s.tail.prev)\n",
    "    s.print_list()\n",
    "    print('맨  끝에 포도 삽입 후:\\t',end='')\n",
    "    s.insert_before(s.tail,'grape')\n",
    "    s.print_list()\n",
    "    print('첫 노드 삭제 후 :\\t', end =\"\")\n",
    "    s.delete(s.head.next)\n",
    "    s.print_list()\n",
    "    print('첫 노드 삭제 후 :\\t', end =\"\")\n",
    "    s.delete(s.head.next)\n",
    "    s.print_list()\n",
    "    print('첫 노드 삭제 후 :\\t', end =\"\")\n",
    "    s.delete(s.head.next)\n",
    "    s.print_list()\n",
    "    print('첫 노드 삭제 후 :\\t', end =\"\")\n",
    "    s.delete(s.head.next)\n",
    "    s.print_list()"
   ]
  },
  {
   "cell_type": "markdown",
   "id": "b77adc0a",
   "metadata": {},
   "source": [
    "# 원형연결리스트"
   ]
  },
  {
   "cell_type": "code",
   "execution_count": 5,
   "id": "498fa4c6",
   "metadata": {
    "ExecuteTime": {
     "end_time": "2023-10-24T05:45:56.084981Z",
     "start_time": "2023-10-24T05:45:56.054983Z"
    }
   },
   "outputs": [],
   "source": [
    "# 프로그램 2-5 clist.py\n",
    "class CList:\n",
    "    class _Node:\n",
    "        def __init__(self,item,link):\n",
    "            self.item = item                         # 노드 생성자\n",
    "            self.next = link                         # 항목과 다음 노드 래퍼런스 \n",
    "    \n",
    "    def __init__(self):\n",
    "        self.size = 0                                # 원형연결리스트 생성자\n",
    "        self.last = None                             # last와 항목수(size)로 구성 \n",
    "\n",
    "        \n",
    "    def no_items(self):\n",
    "        return self.size\n",
    "    \n",
    "    def is_empty(self):\n",
    "        return self.size == 0 \n",
    "    \n",
    "    def insert(self, item):\n",
    "        n = self._Node(item,None)                    # 새 노드 생성하여 n이 참조 \n",
    "        if self.is_empty():\n",
    "            n.next = n \n",
    "            self.last = n                            # 새 노드는 자신을 참조하고 last가 새노드 참조 \n",
    "        else:\n",
    "            n.next = self.last.next                 #새 노드는 첫 노드를 참조하고 \n",
    "            self.last.next = n                      # last가 참조하는 노드와 새 노드 연결 \n",
    "        self.size += 1\n",
    "  \n",
    "            \n",
    "    def first(self):\n",
    "        if self.is_empty():\n",
    "            raise EnvironmentError(\"UnderFlow\")\n",
    "        f = self.last.next\n",
    "        return f.item\n",
    "        \n",
    "        return f.item\n",
    "\n",
    "    def delete(self):\n",
    "        if self.is_empty():\n",
    "            raise EmptyError('UnderFlow')\n",
    "        \n",
    "        x = self.last.next\n",
    "        if self.size == 1:\n",
    "            self.last = None                   # empty 리스트 됨\n",
    "        \n",
    "        else:\n",
    "            self.last.next = x.next            # last가 참조하는 노드가 두번째 노드를 연결 \n",
    "            \n",
    "        self.size -= 1\n",
    "        return x.item\n",
    "            \n",
    "        \n",
    "\n",
    "    \n",
    "    def print_list(self):\n",
    "        if self.is_empty():\n",
    "            print(\"리스트 비어있음 \")\n",
    "        \n",
    "        else:\n",
    "            f = self.last.next                  #둘째 노드부터 시작해서 \n",
    "            p = f\n",
    "            while p.next != f:                  # 첫 노드가 방문되면 루프 중단 (첫노드로 while안드감) \n",
    "                print(p.item, \"=>\", end= \"\")         \n",
    "                p = p.next                      # 노드들을 차례로 방문하기 위해 \n",
    "            print(p.item)  # 마지막에 첫노드 인쇄해줌 (마지막에 첫노드 인쇄라 첫노드가 last인듯)\n",
    "\n",
    "                \n",
    "        \n",
    "\n",
    "class EmptyError(Exception):                               # underflow시 에러처리 \n",
    "    pass"
   ]
  },
  {
   "cell_type": "code",
   "execution_count": 6,
   "id": "7833ad36",
   "metadata": {
    "ExecuteTime": {
     "end_time": "2023-10-24T05:46:01.631952Z",
     "start_time": "2023-10-24T05:46:01.607907Z"
    }
   },
   "outputs": [
    {
     "name": "stdout",
     "output_type": "stream",
     "text": [
      "apple =>orange =>cherry =>pear\n",
      "s의 길이 = 4\n",
      "s의 첫 항목:  apple\n",
      "첫 노드 삭제 후 orange =>cherry =>pear\n",
      "s의 길이 = 3\n",
      "s의 첫 항목: orange\n",
      "첫 노드 삭제 후cherry =>pear\n",
      "첫 노드 삭제 후pear\n",
      "첫 노드 삭제 후리스트 비어있음 \n"
     ]
    }
   ],
   "source": [
    "# from clist import CList\n",
    "if __name__ == \"__main__\":\n",
    "    s = CList()\n",
    "    s.insert('pear')\n",
    "    s.insert('cherry')\n",
    "    s.insert('orange')\n",
    "    s.insert('apple')\n",
    "    s.print_list()\n",
    "    print('s의 길이 =', s.no_items())\n",
    "    print('s의 첫 항목: ', s.first())\n",
    "    s.delete()\n",
    "    print('첫 노드 삭제 후 ', end=\"\")\n",
    "    s.print_list()\n",
    "    print('s의 길이 =', s.no_items())\n",
    "    print('s의 첫 항목:', s.first())\n",
    "    s.delete()\n",
    "    print('첫 노드 삭제 후', end =\"\")\n",
    "    s.print_list()\n",
    "    s.delete()\n",
    "    print('첫 노드 삭제 후', end =\"\")\n",
    "    s.print_list()\n",
    "    s.delete()\n",
    "    print('첫 노드 삭제 후', end =\"\")\n",
    "    s.print_list()"
   ]
  }
 ],
 "metadata": {
  "hide_input": false,
  "kernelspec": {
   "display_name": "Python 3 (ipykernel)",
   "language": "python",
   "name": "python3"
  },
  "language_info": {
   "codemirror_mode": {
    "name": "ipython",
    "version": 3
   },
   "file_extension": ".py",
   "mimetype": "text/x-python",
   "name": "python",
   "nbconvert_exporter": "python",
   "pygments_lexer": "ipython3",
   "version": "3.9.12"
  },
  "toc": {
   "base_numbering": 1,
   "nav_menu": {},
   "number_sections": true,
   "sideBar": true,
   "skip_h1_title": false,
   "title_cell": "Table of Contents",
   "title_sidebar": "Contents",
   "toc_cell": false,
   "toc_position": {},
   "toc_section_display": true,
   "toc_window_display": false
  },
  "varInspector": {
   "cols": {
    "lenName": 16,
    "lenType": 16,
    "lenVar": 40
   },
   "kernels_config": {
    "python": {
     "delete_cmd_postfix": "",
     "delete_cmd_prefix": "del ",
     "library": "var_list.py",
     "varRefreshCmd": "print(var_dic_list())"
    },
    "r": {
     "delete_cmd_postfix": ") ",
     "delete_cmd_prefix": "rm(",
     "library": "var_list.r",
     "varRefreshCmd": "cat(var_dic_list()) "
    }
   },
   "types_to_exclude": [
    "module",
    "function",
    "builtin_function_or_method",
    "instance",
    "_Feature"
   ],
   "window_display": false
  }
 },
 "nbformat": 4,
 "nbformat_minor": 5
}
