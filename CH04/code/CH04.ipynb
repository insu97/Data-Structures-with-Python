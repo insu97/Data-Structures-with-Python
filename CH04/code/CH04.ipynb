{
 "cells": [
  {
   "cell_type": "markdown",
   "id": "a8b8b912",
   "metadata": {},
   "source": [
    "# 이진트리"
   ]
  },
  {
   "cell_type": "code",
   "execution_count": 1,
   "id": "c1ed78ba",
   "metadata": {
    "ExecuteTime": {
     "end_time": "2023-11-02T04:53:29.232345Z",
     "start_time": "2023-11-02T04:53:29.228242Z"
    }
   },
   "outputs": [],
   "source": [
    "class Node:\n",
    "    def __init__(self, item, left=None, right=None):\n",
    "        self.item = item\n",
    "        self.left = left\n",
    "        self.right = right"
   ]
  },
  {
   "cell_type": "code",
   "execution_count": 3,
   "id": "fe2dc1ad",
   "metadata": {
    "ExecuteTime": {
     "end_time": "2023-11-02T05:11:50.386611Z",
     "start_time": "2023-11-02T05:11:50.375882Z"
    }
   },
   "outputs": [],
   "source": [
    "class BinaryTree:\n",
    "    def __init__(self):\n",
    "        self.root = None\n",
    "    \n",
    "    # 전위순회\n",
    "    def preorder(self, n):\n",
    "        if n != None:\n",
    "            print(str(n.item),' ',end='')\n",
    "            if n.left:\n",
    "                self.preorder(n.left)\n",
    "            if n.right:\n",
    "                self.preorder(n.right)\n",
    "    \n",
    "    # 중위순회\n",
    "    def inorder(self, n):\n",
    "        if n != None:\n",
    "            if n.left:\n",
    "                self.inorder(n.left)\n",
    "            print(str(n.item),' ', end='')\n",
    "            if n.right:\n",
    "                self.inorder(n.right)\n",
    "    \n",
    "    # 후위순회\n",
    "    def postorder(self, n):\n",
    "        if n != None:\n",
    "            if n.left:\n",
    "                self.postorder(n.left)\n",
    "            if n.right:\n",
    "                self.postorder(n.right)\n",
    "            print(str(n.item), ' ', end='')\n",
    "    \n",
    "    # 레벨순회\n",
    "    def levelorder(self, root):\n",
    "        q = []\n",
    "        q.append(root)\n",
    "        while len(q) != 0:\n",
    "            t = q.pop(0)\n",
    "            print(str(t.item), ' ', end='')\n",
    "            if t.left != None :\n",
    "                q.append(t.left)\n",
    "            if t.right != None:\n",
    "                q.append(t.right)\n",
    "    \n",
    "    # 트리 높이 계산\n",
    "    def height(self, root):\n",
    "        if root == None:\n",
    "            return 0\n",
    "        return max(self.height(root.left), self.height(root.right)) +1"
   ]
  },
  {
   "cell_type": "code",
   "execution_count": 9,
   "id": "47f1baf3",
   "metadata": {
    "ExecuteTime": {
     "end_time": "2023-11-02T05:15:14.351874Z",
     "start_time": "2023-11-02T05:15:14.333849Z"
    }
   },
   "outputs": [],
   "source": [
    "t = BinaryTree()\n",
    "\n",
    "n1 = Node(100)\n",
    "n2 = Node(200)\n",
    "n3 = Node(300)\n",
    "n4 = Node(400)\n",
    "n5 = Node(500)\n",
    "n6 = Node(600)\n",
    "n7 = Node(700)\n",
    "n8 = Node(800)\n",
    "\n",
    "n1.left = n2\n",
    "n1.right = n3\n",
    "n2.left = n4\n",
    "n2.right = n5\n",
    "n3.left = n6\n",
    "n3.right = n7\n",
    "n4.left = n8\n",
    "\n",
    "t.root = n1"
   ]
  },
  {
   "cell_type": "code",
   "execution_count": 13,
   "id": "67aa3d55",
   "metadata": {
    "ExecuteTime": {
     "end_time": "2023-11-02T05:17:12.328463Z",
     "start_time": "2023-11-02T05:17:12.311445Z"
    }
   },
   "outputs": [
    {
     "name": "stdout",
     "output_type": "stream",
     "text": [
      "트리 높이 :  4\n",
      "전위순회 :\t100  200  400  800  500  300  600  700  \n",
      "중위순회 :\t800  400  200  500  100  600  300  700  \n",
      "후위순회 :\t800  400  500  200  600  700  300  100  \n",
      "레벨순회 :\t100  200  300  400  500  600  700  800  "
     ]
    }
   ],
   "source": [
    "print('트리 높이 : ', t.height(t.root))\n",
    "print('전위순회 :\\t', end = '')\n",
    "t.preorder(t.root)\n",
    "print('\\n중위순회 :\\t', end = '')\n",
    "t.inorder(t.root)\n",
    "print('\\n후위순회 :\\t', end = '')\n",
    "t.postorder(t.root)\n",
    "print('\\n레벨순회 :\\t', end = '')\n",
    "t.levelorder(t.root)"
   ]
  }
 ],
 "metadata": {
  "hide_input": false,
  "kernelspec": {
   "display_name": "Python 3 (ipykernel)",
   "language": "python",
   "name": "python3"
  },
  "language_info": {
   "codemirror_mode": {
    "name": "ipython",
    "version": 3
   },
   "file_extension": ".py",
   "mimetype": "text/x-python",
   "name": "python",
   "nbconvert_exporter": "python",
   "pygments_lexer": "ipython3",
   "version": "3.9.12"
  },
  "toc": {
   "base_numbering": 1,
   "nav_menu": {},
   "number_sections": true,
   "sideBar": true,
   "skip_h1_title": false,
   "title_cell": "Table of Contents",
   "title_sidebar": "Contents",
   "toc_cell": false,
   "toc_position": {},
   "toc_section_display": true,
   "toc_window_display": false
  },
  "varInspector": {
   "cols": {
    "lenName": 16,
    "lenType": 16,
    "lenVar": 40
   },
   "kernels_config": {
    "python": {
     "delete_cmd_postfix": "",
     "delete_cmd_prefix": "del ",
     "library": "var_list.py",
     "varRefreshCmd": "print(var_dic_list())"
    },
    "r": {
     "delete_cmd_postfix": ") ",
     "delete_cmd_prefix": "rm(",
     "library": "var_list.r",
     "varRefreshCmd": "cat(var_dic_list()) "
    }
   },
   "types_to_exclude": [
    "module",
    "function",
    "builtin_function_or_method",
    "instance",
    "_Feature"
   ],
   "window_display": false
  }
 },
 "nbformat": 4,
 "nbformat_minor": 5
}
