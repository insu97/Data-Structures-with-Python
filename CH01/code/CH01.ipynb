{
 "cells": [
  {
   "cell_type": "markdown",
   "id": "8bdc8f6c",
   "metadata": {},
   "source": [
    "# 팩토리얼"
   ]
  },
  {
   "cell_type": "code",
   "execution_count": 5,
   "id": "67786c1d",
   "metadata": {
    "ExecuteTime": {
     "end_time": "2023-10-24T04:17:09.221092Z",
     "start_time": "2023-10-24T04:17:09.211485Z"
    }
   },
   "outputs": [],
   "source": [
    "# 순환 사용\n",
    "def factorial(n):\n",
    "    if n <= 1:\n",
    "        return 1\n",
    "    else:\n",
    "        return n*factorial(n-1)"
   ]
  },
  {
   "cell_type": "code",
   "execution_count": 6,
   "id": "2d66818c",
   "metadata": {
    "ExecuteTime": {
     "end_time": "2023-10-24T04:17:09.368567Z",
     "start_time": "2023-10-24T04:17:09.347982Z"
    }
   },
   "outputs": [
    {
     "data": {
      "text/plain": [
       "24"
      ]
     },
     "execution_count": 6,
     "metadata": {},
     "output_type": "execute_result"
    }
   ],
   "source": [
    "factorial(4)"
   ]
  },
  {
   "cell_type": "code",
   "execution_count": 7,
   "id": "9f4a638c",
   "metadata": {
    "ExecuteTime": {
     "end_time": "2023-10-24T04:17:09.828461Z",
     "start_time": "2023-10-24T04:17:09.812289Z"
    }
   },
   "outputs": [],
   "source": [
    "# 반복문 사용\n",
    "factorial = 1\n",
    "\n",
    "for i in range(1, 5):\n",
    "    factorial *= i"
   ]
  },
  {
   "cell_type": "code",
   "execution_count": 8,
   "id": "82a16c8d",
   "metadata": {
    "ExecuteTime": {
     "end_time": "2023-10-24T04:17:10.106802Z",
     "start_time": "2023-10-24T04:17:10.089794Z"
    }
   },
   "outputs": [
    {
     "data": {
      "text/plain": [
       "24"
      ]
     },
     "execution_count": 8,
     "metadata": {},
     "output_type": "execute_result"
    }
   ],
   "source": [
    "factorial"
   ]
  },
  {
   "cell_type": "markdown",
   "id": "31f8a2c0",
   "metadata": {},
   "source": [
    "# 섬 관광 프로그램"
   ]
  },
  {
   "cell_type": "code",
   "execution_count": 9,
   "id": "86360185",
   "metadata": {
    "ExecuteTime": {
     "end_time": "2023-10-24T04:19:47.197425Z",
     "start_time": "2023-10-24T04:19:47.188143Z"
    }
   },
   "outputs": [],
   "source": [
    "class Node:\n",
    "    def __init__(self, name, left=None, right=None): # 섬 생성자\n",
    "        self.name = name \n",
    "        self.left = left\n",
    "        self.right = right\n",
    "        \n",
    "def map(): # 지도만들기 \n",
    "    n1 = Node('H')\n",
    "    n2 = Node('F')\n",
    "    n3 = Node('S')\n",
    "    n4 = Node('U')\n",
    "    n5 = Node('E')\n",
    "    n6 = Node('Z')\n",
    "    n7 = Node('K')\n",
    "    n8 = Node('N')\n",
    "    n9 = Node('A')\n",
    "    n10 = Node('Y')\n",
    "    n11 = Node('T')\n",
    "    \n",
    "    n1.left = n2\n",
    "    n1.right = n3\n",
    "    n2.left = n4\n",
    "    n2.right = n5\n",
    "    n3.left = n6\n",
    "    n3.right = n7\n",
    "    n4.left = n8\n",
    "    n5.left = n9\n",
    "    n7.right = n10\n",
    "    n9.right = n11\n",
    "    return n1      # 시작섬리턴\n",
    "\n",
    "def A_course(n): # A- 코스\n",
    "    if n != None:\n",
    "        print(n.name ,'->', end = '')\n",
    "        A_course(n.left)\n",
    "        A_course(n.right)\n",
    "        \n",
    "def B_course(n):           \n",
    "    if n!= None:\n",
    "        B_course(n.left)\n",
    "        print(n.name, '->', end='') # 섬 N 방문\n",
    "        B_course(n.right) \n",
    "    \n",
    "def C_course(n):           \n",
    "    if n!= None:\n",
    "        C_course(n.left)\n",
    "        C_course(n.right)\n",
    "        print(n.name, '->', end='') # 섬 N 방문\n",
    "    "
   ]
  },
  {
   "cell_type": "code",
   "execution_count": 10,
   "id": "e86e346f",
   "metadata": {
    "ExecuteTime": {
     "end_time": "2023-10-24T04:22:36.520183Z",
     "start_time": "2023-10-24T04:22:36.503546Z"
    }
   },
   "outputs": [],
   "source": [
    "start = map()"
   ]
  },
  {
   "cell_type": "code",
   "execution_count": 11,
   "id": "321161d9",
   "metadata": {
    "ExecuteTime": {
     "end_time": "2023-10-24T04:22:36.969657Z",
     "start_time": "2023-10-24T04:22:36.949905Z"
    }
   },
   "outputs": [
    {
     "name": "stdout",
     "output_type": "stream",
     "text": [
      "A-코스:\tH ->F ->U ->N ->E ->A ->T ->S ->Z ->K ->Y ->"
     ]
    }
   ],
   "source": [
    "print('A-코스:\\t', end=\"\")\n",
    "A_course(start)"
   ]
  },
  {
   "cell_type": "code",
   "execution_count": 12,
   "id": "b1e48658",
   "metadata": {
    "ExecuteTime": {
     "end_time": "2023-10-24T04:22:37.702521Z",
     "start_time": "2023-10-24T04:22:37.684310Z"
    }
   },
   "outputs": [
    {
     "name": "stdout",
     "output_type": "stream",
     "text": [
      "\n",
      "B-코스:\t N ->U ->F ->A ->T ->E ->H ->Z ->S ->K ->Y ->"
     ]
    }
   ],
   "source": [
    "print('\\nB-코스:\\t', end=\" \")\n",
    "B_course(start)"
   ]
  },
  {
   "cell_type": "code",
   "execution_count": 13,
   "id": "92d7799c",
   "metadata": {
    "ExecuteTime": {
     "end_time": "2023-10-24T04:22:38.075267Z",
     "start_time": "2023-10-24T04:22:38.063742Z"
    }
   },
   "outputs": [
    {
     "name": "stdout",
     "output_type": "stream",
     "text": [
      "\n",
      "C-코스:\t N ->U ->T ->A ->E ->F ->Z ->Y ->K ->S ->H ->"
     ]
    }
   ],
   "source": [
    "print('\\nC-코스:\\t', end=\" \")\n",
    "C_course(start)"
   ]
  }
 ],
 "metadata": {
  "hide_input": false,
  "kernelspec": {
   "display_name": "Python 3 (ipykernel)",
   "language": "python",
   "name": "python3"
  },
  "language_info": {
   "codemirror_mode": {
    "name": "ipython",
    "version": 3
   },
   "file_extension": ".py",
   "mimetype": "text/x-python",
   "name": "python",
   "nbconvert_exporter": "python",
   "pygments_lexer": "ipython3",
   "version": "3.9.12"
  },
  "toc": {
   "base_numbering": 1,
   "nav_menu": {},
   "number_sections": true,
   "sideBar": true,
   "skip_h1_title": false,
   "title_cell": "Table of Contents",
   "title_sidebar": "Contents",
   "toc_cell": false,
   "toc_position": {},
   "toc_section_display": true,
   "toc_window_display": false
  },
  "varInspector": {
   "cols": {
    "lenName": 16,
    "lenType": 16,
    "lenVar": 40
   },
   "kernels_config": {
    "python": {
     "delete_cmd_postfix": "",
     "delete_cmd_prefix": "del ",
     "library": "var_list.py",
     "varRefreshCmd": "print(var_dic_list())"
    },
    "r": {
     "delete_cmd_postfix": ") ",
     "delete_cmd_prefix": "rm(",
     "library": "var_list.r",
     "varRefreshCmd": "cat(var_dic_list()) "
    }
   },
   "types_to_exclude": [
    "module",
    "function",
    "builtin_function_or_method",
    "instance",
    "_Feature"
   ],
   "window_display": false
  }
 },
 "nbformat": 4,
 "nbformat_minor": 5
}
