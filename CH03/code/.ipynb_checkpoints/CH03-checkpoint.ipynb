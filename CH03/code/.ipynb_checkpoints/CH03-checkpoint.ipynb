{
 "cells": [
  {
   "cell_type": "markdown",
   "id": "cfd4113f",
   "metadata": {},
   "source": [
    "# stack"
   ]
  },
  {
   "cell_type": "markdown",
   "id": "41496bae",
   "metadata": {},
   "source": [
    "## version_1 [리스트 구현]"
   ]
  },
  {
   "cell_type": "code",
   "execution_count": 1,
   "id": "2edf0035",
   "metadata": {
    "ExecuteTime": {
     "end_time": "2023-10-27T04:51:05.461184Z",
     "start_time": "2023-10-27T04:51:05.448926Z"
    }
   },
   "outputs": [],
   "source": [
    "def push(item):\n",
    "    stack.append(item)\n",
    "    \n",
    "def peek():  \n",
    "    if len(stack) !=0:\n",
    "        return stack[-1]\n",
    "    \n",
    "def pop():  \n",
    "    if len(stack) != 0:\n",
    "        item = stack.pop(-1)\n",
    "        return item"
   ]
  },
  {
   "cell_type": "code",
   "execution_count": 2,
   "id": "3ebd4ecd",
   "metadata": {
    "ExecuteTime": {
     "end_time": "2023-10-27T04:51:12.916236Z",
     "start_time": "2023-10-27T04:51:12.908016Z"
    }
   },
   "outputs": [],
   "source": [
    "stack = []\n",
    "push('apple')\n",
    "push('orange')\n",
    "push('cherry')"
   ]
  },
  {
   "cell_type": "code",
   "execution_count": 3,
   "id": "a99acb76",
   "metadata": {
    "ExecuteTime": {
     "end_time": "2023-10-27T04:51:15.739960Z",
     "start_time": "2023-10-27T04:51:15.720963Z"
    }
   },
   "outputs": [
    {
     "name": "stdout",
     "output_type": "stream",
     "text": [
      "사과, 오랜지, 체리 push 후:\t['apple', 'orange', 'cherry'] \t < - top\n",
      "top 항목: cherry\n",
      "배 push 후:\t['apple', 'orange', 'cherry', 'pear'] \t < - top\n",
      "pop(), 포도 push 후:\t['apple', 'orange', 'cherry', 'grape'] \t<- top\n"
     ]
    }
   ],
   "source": [
    "print('사과, 오랜지, 체리 push 후:\\t', end=\"\")\n",
    "print(stack, '\\t < - top')  \n",
    "print('top 항목: ', end=\"\")\n",
    "print(peek())\n",
    "push('pear')\n",
    "print('배 push 후:\\t', end=\"\")\n",
    "print(stack, '\\t < - top')\n",
    "pop()\n",
    "push('grape')\n",
    "print('pop(), 포도 push 후:\\t', end=\"\")\n",
    "print(stack, '\\t<- top')"
   ]
  },
  {
   "cell_type": "markdown",
   "id": "38ddae14",
   "metadata": {},
   "source": [
    "## version_2 [단순연결리스트 구현]"
   ]
  },
  {
   "cell_type": "code",
   "execution_count": 4,
   "id": "e2961ff7",
   "metadata": {
    "ExecuteTime": {
     "end_time": "2023-10-27T04:56:48.704408Z",
     "start_time": "2023-10-27T04:56:48.690840Z"
    }
   },
   "outputs": [],
   "source": [
    "class Node:\n",
    "    def __init__(self,item,link):\n",
    "        self.item = item\n",
    "        self.next = link\n",
    "    \n",
    "def push(item):\n",
    "    global size\n",
    "    global top\n",
    "    top = Node(item, top)\n",
    "    size +=1\n",
    "\n",
    "def peek():\n",
    "    if size != 0:\n",
    "        return top.item\n",
    "    \n",
    "def pop():\n",
    "    global size\n",
    "    global top\n",
    "    \n",
    "    if size !=0 : \n",
    "        top_item = top.item\n",
    "        top =top.next\n",
    "        size-=1\n",
    "        return top_item\n",
    "        \n",
    "def print_stack():\n",
    "    \n",
    "    print('top ->\\t', end=\"\")\n",
    "    p = top\n",
    "    while p:\n",
    "        if p.next != None:\n",
    "            print(p.item, '->', end =\"\")\n",
    "        else:\n",
    "            print(p.item, end=\"\")\n",
    "        p = p.next\n",
    "    print()  "
   ]
  },
  {
   "cell_type": "code",
   "execution_count": 5,
   "id": "30dcd74f",
   "metadata": {
    "ExecuteTime": {
     "end_time": "2023-10-27T04:56:55.590885Z",
     "start_time": "2023-10-27T04:56:55.579702Z"
    }
   },
   "outputs": [],
   "source": [
    "top = None\n",
    "size = 0"
   ]
  },
  {
   "cell_type": "code",
   "execution_count": 6,
   "id": "a58853b0",
   "metadata": {
    "ExecuteTime": {
     "end_time": "2023-10-27T04:56:58.812213Z",
     "start_time": "2023-10-27T04:56:58.802854Z"
    }
   },
   "outputs": [
    {
     "name": "stdout",
     "output_type": "stream",
     "text": [
      "사과, 오랜지, 체리 push 후:\ttop ->\tcherry ->orange ->apple\n",
      "top 항목: cherry\n",
      "배 push 후:\ttop ->\tpear ->cherry ->orange ->apple\n",
      "pop(), 포도 push 후:\ttop ->\tgrape ->cherry ->orange ->apple\n"
     ]
    }
   ],
   "source": [
    "push('apple')\n",
    "push('orange')\n",
    "push('cherry')\n",
    "print('사과, 오랜지, 체리 push 후:\\t', end=\"\")\n",
    "print_stack()\n",
    "print('top 항목: ', end=\"\")\n",
    "print(peek())\n",
    "push('pear')\n",
    "print('배 push 후:\\t', end=\"\")\n",
    "print_stack()\n",
    "pop()\n",
    "push('grape')\n",
    "print('pop(), 포도 push 후:\\t', end=\"\")\n",
    "print_stack()"
   ]
  },
  {
   "cell_type": "markdown",
   "id": "51ab2c04",
   "metadata": {},
   "source": [
    "# Queue"
   ]
  },
  {
   "cell_type": "markdown",
   "id": "e005b930",
   "metadata": {},
   "source": [
    "## ver1 [ 리스트 ]"
   ]
  },
  {
   "cell_type": "code",
   "execution_count": 7,
   "id": "477b6451",
   "metadata": {
    "ExecuteTime": {
     "end_time": "2023-10-30T06:36:30.101627Z",
     "start_time": "2023-10-30T06:36:30.082577Z"
    }
   },
   "outputs": [],
   "source": [
    "def add(item):\n",
    "    q.append(item)\n",
    "    \n",
    "    \n",
    "def remove():\n",
    "    if len(q) != 0:\n",
    "        item = q.pop(0)\n",
    "        return item\n",
    "    \n",
    "\n",
    "def print_q(): \n",
    "    print('front -->', end =\"\")\n",
    "    \n",
    "    for i in range(len(q)):\n",
    "        print(f'{q[i]}  ', end=\"\")\n",
    "    \n",
    "    print(' <--rear')"
   ]
  },
  {
   "cell_type": "code",
   "execution_count": 8,
   "id": "a50c2360",
   "metadata": {
    "ExecuteTime": {
     "end_time": "2023-10-30T06:36:30.396740Z",
     "start_time": "2023-10-30T06:36:30.384355Z"
    }
   },
   "outputs": [
    {
     "name": "stdout",
     "output_type": "stream",
     "text": [
      "사과, 오렌지, 체리, 배 삽입 후: \tfront -->apple  orange  cherry  pear   <--rear\n",
      "remove한 후: \tfront -->orange  cherry  pear   <--rear\n",
      "remove한 후: \tfront -->cherry  pear   <--rear\n",
      "포도 삽입 한 후: \tfront -->cherry  pear  grape   <--rear\n"
     ]
    }
   ],
   "source": [
    "q = []\n",
    "add('apple')\n",
    "add('orange')\n",
    "add('cherry')\n",
    "add('pear')\n",
    "print('사과, 오렌지, 체리, 배 삽입 후: \\t', end='')\n",
    "print_q()\n",
    "\n",
    "remove()\n",
    "print('remove한 후: \\t', end=\"\")\n",
    "print_q()  \n",
    "remove()\n",
    "print('remove한 후: \\t', end=\"\")\n",
    "print_q()  \n",
    "\n",
    "add('grape')\n",
    "print('포도 삽입 한 후: \\t', end=\"\")\n",
    "print_q()  "
   ]
  },
  {
   "cell_type": "markdown",
   "id": "e55b110b",
   "metadata": {},
   "source": [
    "## ver2 [ 단순연결 리스트 ]"
   ]
  },
  {
   "cell_type": "code",
   "execution_count": 9,
   "id": "b55ad5aa",
   "metadata": {
    "ExecuteTime": {
     "end_time": "2023-10-30T06:37:36.727712Z",
     "start_time": "2023-10-30T06:37:36.718934Z"
    }
   },
   "outputs": [],
   "source": [
    "class Node:\n",
    "    def __init__(self,item,link):\n",
    "        self.item = item\n",
    "        self.next = link\n",
    "        \n",
    "def add(item):\n",
    "    global rear\n",
    "    global front\n",
    "    global size \n",
    "\n",
    "    new_node = Node(item, None)\n",
    "    if size == 0:\n",
    "        front = new_node\n",
    "    else:\n",
    "        rear.next = new_node\n",
    "    rear = new_node\n",
    "    size+=1\n",
    "    \n",
    "    \n",
    "def remove():\n",
    "\n",
    "    global rear\n",
    "    global front\n",
    "    global size     \n",
    "    \n",
    "    if size !=0:\n",
    "        fitem = front.item\n",
    "        front = front.next\n",
    "        size -= 1\n",
    "        if size == 0:\n",
    "            rear == None\n",
    "        \n",
    "        return fitem\n",
    "\n",
    "def print_q():\n",
    "    \n",
    "    p = front\n",
    "\n",
    "    print('front:\\t', end=\"\")\n",
    "    \n",
    "    while p:\n",
    "        \n",
    "        if p.next !=None:\n",
    "            print(p.item, '-> ', end = \"\")\n",
    "        else:\n",
    "            print(p.item, end =\"\")\n",
    "        p = p.next\n",
    "    print(' :rear')"
   ]
  },
  {
   "cell_type": "code",
   "execution_count": 10,
   "id": "e6268334",
   "metadata": {
    "ExecuteTime": {
     "end_time": "2023-10-30T06:37:37.007845Z",
     "start_time": "2023-10-30T06:37:36.988657Z"
    }
   },
   "outputs": [
    {
     "name": "stdout",
     "output_type": "stream",
     "text": [
      "사과, 오렌지, 체리, 배 삽입 후: \tfront:\tapple -> orange -> cherry -> pear :rear\n",
      "remove한 후: \tfront:\torange -> cherry -> pear :rear\n",
      "remove한 후: \tfront:\tcherry -> pear :rear\n",
      "포도 삽입 한 후: \tfront:\tcherry -> pear -> grape :rear\n"
     ]
    }
   ],
   "source": [
    "size = 0\n",
    "rear = None\n",
    "front =None\n",
    "\n",
    "add('apple')\n",
    "add('orange')\n",
    "add('cherry')\n",
    "add('pear')\n",
    "print('사과, 오렌지, 체리, 배 삽입 후: \\t', end='')\n",
    "print_q()\n",
    "\n",
    "remove()\n",
    "print('remove한 후: \\t', end=\"\")\n",
    "print_q()  \n",
    "remove()\n",
    "print('remove한 후: \\t', end=\"\")\n",
    "print_q()  \n",
    "\n",
    "add('grape')\n",
    "print('포도 삽입 한 후: \\t', end=\"\")\n",
    "print_q()"
   ]
  },
  {
   "cell_type": "markdown",
   "id": "38f59771-46dc-4ee3-ac48-dfff163331f0",
   "metadata": {},
   "source": [
    "# Deque"
   ]
  },
  {
   "cell_type": "markdown",
   "id": "c255a110-2ead-4ebb-9f56-840e9d215f19",
   "metadata": {},
   "source": [
    "## ver1 [ library 사용 ]"
   ]
  },
  {
   "cell_type": "code",
   "execution_count": 11,
   "id": "8d0af35e-7088-4957-8674-f72209ca1a74",
   "metadata": {},
   "outputs": [
    {
     "name": "stdout",
     "output_type": "stream",
     "text": [
      "DATA\n",
      "deque(['k', 'd', 'a', 't', 'a', 'r'])\n",
      "deque(['d', 'a', 't', 'a'])\n",
      "a\n",
      "False\n",
      "deque(['p', 'y', 't', 'h', 'o', 'n', 'd', 'a', 't', 'a', 's', 't', 'r', 'u', 'c', 't', 'u', 'r', 'e'])\n"
     ]
    }
   ],
   "source": [
    "from collections import deque  \n",
    "dq = deque('data')\n",
    "for elem in dq:\n",
    "    print(elem.upper(), end=\"\")\n",
    "print() \n",
    "\n",
    "dq.append('r')\n",
    "dq.appendleft('k')\n",
    "print(dq)\n",
    "\n",
    "dq.pop()\n",
    "dq.popleft()\n",
    "print(dq)\n",
    "\n",
    "print(dq[-1])\n",
    "print('x' in dq)\n",
    "dq.extend('structure')\n",
    "dq.extendleft(reversed('python'))\n",
    "print(dq)"
   ]
  }
 ],
 "metadata": {
  "hide_input": false,
  "kernelspec": {
   "display_name": "Python 3 (ipykernel)",
   "language": "python",
   "name": "python3"
  },
  "language_info": {
   "codemirror_mode": {
    "name": "ipython",
    "version": 3
   },
   "file_extension": ".py",
   "mimetype": "text/x-python",
   "name": "python",
   "nbconvert_exporter": "python",
   "pygments_lexer": "ipython3",
   "version": "3.9.12"
  },
  "toc": {
   "base_numbering": 1,
   "nav_menu": {},
   "number_sections": true,
   "sideBar": true,
   "skip_h1_title": false,
   "title_cell": "Table of Contents",
   "title_sidebar": "Contents",
   "toc_cell": false,
   "toc_position": {},
   "toc_section_display": true,
   "toc_window_display": false
  },
  "varInspector": {
   "cols": {
    "lenName": 16,
    "lenType": 16,
    "lenVar": 40
   },
   "kernels_config": {
    "python": {
     "delete_cmd_postfix": "",
     "delete_cmd_prefix": "del ",
     "library": "var_list.py",
     "varRefreshCmd": "print(var_dic_list())"
    },
    "r": {
     "delete_cmd_postfix": ") ",
     "delete_cmd_prefix": "rm(",
     "library": "var_list.r",
     "varRefreshCmd": "cat(var_dic_list()) "
    }
   },
   "types_to_exclude": [
    "module",
    "function",
    "builtin_function_or_method",
    "instance",
    "_Feature"
   ],
   "window_display": false
  }
 },
 "nbformat": 4,
 "nbformat_minor": 5
}
