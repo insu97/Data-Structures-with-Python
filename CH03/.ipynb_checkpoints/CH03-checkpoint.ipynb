{
 "cells": [
  {
   "cell_type": "markdown",
   "id": "cfd4113f",
   "metadata": {},
   "source": [
    "# stack"
   ]
  },
  {
   "cell_type": "markdown",
   "id": "41496bae",
   "metadata": {},
   "source": [
    "## version_1 [리스트 구현]"
   ]
  },
  {
   "cell_type": "code",
   "execution_count": 1,
   "id": "2edf0035",
   "metadata": {
    "ExecuteTime": {
     "end_time": "2023-10-27T04:51:05.461184Z",
     "start_time": "2023-10-27T04:51:05.448926Z"
    }
   },
   "outputs": [],
   "source": [
    "def push(item):\n",
    "    stack.append(item)\n",
    "    \n",
    "def peek():  \n",
    "    if len(stack) !=0:\n",
    "        return stack[-1]\n",
    "    \n",
    "def pop():  \n",
    "    if len(stack) != 0:\n",
    "        item = stack.pop(-1)\n",
    "        return item"
   ]
  },
  {
   "cell_type": "code",
   "execution_count": 2,
   "id": "3ebd4ecd",
   "metadata": {
    "ExecuteTime": {
     "end_time": "2023-10-27T04:51:12.916236Z",
     "start_time": "2023-10-27T04:51:12.908016Z"
    }
   },
   "outputs": [],
   "source": [
    "stack = []\n",
    "push('apple')\n",
    "push('orange')\n",
    "push('cherry')"
   ]
  },
  {
   "cell_type": "code",
   "execution_count": 3,
   "id": "a99acb76",
   "metadata": {
    "ExecuteTime": {
     "end_time": "2023-10-27T04:51:15.739960Z",
     "start_time": "2023-10-27T04:51:15.720963Z"
    }
   },
   "outputs": [
    {
     "name": "stdout",
     "output_type": "stream",
     "text": [
      "사과, 오랜지, 체리 push 후:\t['apple', 'orange', 'cherry'] \t < - top\n",
      "top 항목: cherry\n",
      "배 push 후:\t['apple', 'orange', 'cherry', 'pear'] \t < - top\n",
      "pop(), 포도 push 후:\t['apple', 'orange', 'cherry', 'grape'] \t<- top\n"
     ]
    }
   ],
   "source": [
    "print('사과, 오랜지, 체리 push 후:\\t', end=\"\")\n",
    "print(stack, '\\t < - top')  \n",
    "print('top 항목: ', end=\"\")\n",
    "print(peek())\n",
    "push('pear')\n",
    "print('배 push 후:\\t', end=\"\")\n",
    "print(stack, '\\t < - top')\n",
    "pop()\n",
    "push('grape')\n",
    "print('pop(), 포도 push 후:\\t', end=\"\")\n",
    "print(stack, '\\t<- top')"
   ]
  },
  {
   "cell_type": "markdown",
   "id": "38ddae14",
   "metadata": {},
   "source": [
    "## version_2 [단순연결리스트 구현]"
   ]
  },
  {
   "cell_type": "code",
   "execution_count": 5,
   "id": "e2961ff7",
   "metadata": {
    "ExecuteTime": {
     "end_time": "2023-10-27T04:56:48.704408Z",
     "start_time": "2023-10-27T04:56:48.690840Z"
    }
   },
   "outputs": [],
   "source": [
    "class Node:\n",
    "    def __init__(self,item,link):\n",
    "        self.item = item\n",
    "        self.next = link\n",
    "    \n",
    "def push(item):\n",
    "    global size\n",
    "    global top\n",
    "    top = Node(item, top)\n",
    "    size +=1\n",
    "\n",
    "def peek():\n",
    "    if size != 0:\n",
    "        return top.item\n",
    "    \n",
    "def pop():\n",
    "    global size\n",
    "    global top\n",
    "    \n",
    "    if size !=0 : \n",
    "        top_item = top.item\n",
    "        top =top.next\n",
    "        size-=1\n",
    "        return top_item\n",
    "        \n",
    "def print_stack():\n",
    "    \n",
    "    print('top ->\\t', end=\"\")\n",
    "    p = top\n",
    "    while p:\n",
    "        if p.next != None:\n",
    "            print(p.item, '->', end =\"\")\n",
    "        else:\n",
    "            print(p.item, end=\"\")\n",
    "        p = p.next\n",
    "    print()  "
   ]
  },
  {
   "cell_type": "code",
   "execution_count": 6,
   "id": "30dcd74f",
   "metadata": {
    "ExecuteTime": {
     "end_time": "2023-10-27T04:56:55.590885Z",
     "start_time": "2023-10-27T04:56:55.579702Z"
    }
   },
   "outputs": [],
   "source": [
    "top = None\n",
    "size = 0"
   ]
  },
  {
   "cell_type": "code",
   "execution_count": 7,
   "id": "a58853b0",
   "metadata": {
    "ExecuteTime": {
     "end_time": "2023-10-27T04:56:58.812213Z",
     "start_time": "2023-10-27T04:56:58.802854Z"
    }
   },
   "outputs": [
    {
     "name": "stdout",
     "output_type": "stream",
     "text": [
      "사과, 오랜지, 체리 push 후:\ttop ->\tcherry ->orange ->apple\n",
      "top 항목: cherry\n",
      "배 push 후:\ttop ->\tpear ->cherry ->orange ->apple\n",
      "pop(), 포도 push 후:\ttop ->\tgrape ->cherry ->orange ->apple\n"
     ]
    }
   ],
   "source": [
    "push('apple')\n",
    "push('orange')\n",
    "push('cherry')\n",
    "print('사과, 오랜지, 체리 push 후:\\t', end=\"\")\n",
    "print_stack()\n",
    "print('top 항목: ', end=\"\")\n",
    "print(peek())\n",
    "push('pear')\n",
    "print('배 push 후:\\t', end=\"\")\n",
    "print_stack()\n",
    "pop()\n",
    "push('grape')\n",
    "print('pop(), 포도 push 후:\\t', end=\"\")\n",
    "print_stack()"
   ]
  }
 ],
 "metadata": {
  "hide_input": false,
  "kernelspec": {
   "display_name": "Python 3 (ipykernel)",
   "language": "python",
   "name": "python3"
  },
  "language_info": {
   "codemirror_mode": {
    "name": "ipython",
    "version": 3
   },
   "file_extension": ".py",
   "mimetype": "text/x-python",
   "name": "python",
   "nbconvert_exporter": "python",
   "pygments_lexer": "ipython3",
   "version": "3.9.12"
  },
  "toc": {
   "base_numbering": 1,
   "nav_menu": {},
   "number_sections": true,
   "sideBar": true,
   "skip_h1_title": false,
   "title_cell": "Table of Contents",
   "title_sidebar": "Contents",
   "toc_cell": false,
   "toc_position": {},
   "toc_section_display": true,
   "toc_window_display": false
  },
  "varInspector": {
   "cols": {
    "lenName": 16,
    "lenType": 16,
    "lenVar": 40
   },
   "kernels_config": {
    "python": {
     "delete_cmd_postfix": "",
     "delete_cmd_prefix": "del ",
     "library": "var_list.py",
     "varRefreshCmd": "print(var_dic_list())"
    },
    "r": {
     "delete_cmd_postfix": ") ",
     "delete_cmd_prefix": "rm(",
     "library": "var_list.r",
     "varRefreshCmd": "cat(var_dic_list()) "
    }
   },
   "types_to_exclude": [
    "module",
    "function",
    "builtin_function_or_method",
    "instance",
    "_Feature"
   ],
   "window_display": false
  }
 },
 "nbformat": 4,
 "nbformat_minor": 5
}
